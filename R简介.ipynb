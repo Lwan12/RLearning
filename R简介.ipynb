{
 "cells": [
  {
   "cell_type": "markdown",
   "metadata": {},
   "source": [
    "# R 简介"
   ]
  },
  {
   "cell_type": "markdown",
   "metadata": {},
   "source": [
    "## 1. 包的介绍\n",
    "\n",
    "R的包的概念就相当于SAS中的模块，比如SAS中有IML模块我们才能使用proc iml，R里的包就类似，当我们导入相对应的包才能运用里面的函数\n",
    "\n",
    "导入一次包就可以在当局环境下一直使用此包的包含的函数了，所以我们一般把整个代码需要用的包都在程序开头申明。\n",
    "代码如下："
   ]
  },
  {
   "cell_type": "code",
   "execution_count": null,
   "metadata": {},
   "outputs": [],
   "source": [
    "library(dplyr)"
   ]
  },
  {
   "cell_type": "markdown",
   "metadata": {},
   "source": [
    "因为在这里我都帮大家安装好了，如果在自己电脑上，运行这段代码就有可能报出没有此包的信息，我们就要运行如下代码来安装包,\n",
    "这里大家就不要运行了"
   ]
  },
  {
   "cell_type": "code",
   "execution_count": null,
   "metadata": {},
   "outputs": [],
   "source": [
    "install.packages('dplyr')"
   ]
  },
  {
   "cell_type": "markdown",
   "metadata": {},
   "source": [
    "如果我只想运用某个包里面的一个函数，但是我不想导入整个包，就可以运用“包名”+：：+“函数”来单独调用。\n",
    "比如我想运用dplry包里面的filter函数，那我就可以这样写："
   ]
  },
  {
   "cell_type": "code",
   "execution_count": 18,
   "metadata": {},
   "outputs": [
    {
     "name": "stdout",
     "output_type": "stream",
     "text": [
      "  Sepal.Length Sepal.Width Petal.Length Petal.Width Species\n",
      "1          5.1         3.5          1.4         0.2  setosa\n",
      "2          4.9         3.0          1.4         0.2  setosa\n",
      "3          4.7         3.2          1.3         0.2  setosa\n",
      "4          4.6         3.1          1.5         0.2  setosa\n",
      "5          5.0         3.6          1.4         0.2  setosa\n"
     ]
    }
   ],
   "source": [
    "a <- dplyr::filter(iris,Sepal.Length>3)\n",
    "print(head(a,5))"
   ]
  },
  {
   "cell_type": "markdown",
   "metadata": {},
   "source": [
    "## 2 .基本介绍\n",
    "\n",
    "接下来介绍R的几个基本要点，还有和SAS的区别，首先我们先用print打个hello world吧\n",
    "\n",
    "如果不用RStudio，我们一般查看数据，都要利用到print函数，类似我们SAS的proc print。"
   ]
  },
  {
   "cell_type": "code",
   "execution_count": 19,
   "metadata": {},
   "outputs": [
    {
     "name": "stdout",
     "output_type": "stream",
     "text": [
      "[1] \"Hello World\"\n"
     ]
    }
   ],
   "source": [
    "print(\"Hello World\")"
   ]
  },
  {
   "cell_type": "markdown",
   "metadata": {},
   "source": [
    "### 2.1 大小写敏感\n",
    "\n",
    "在R中，和SAS不同的是，任何对象，列如数据集名词，变量名，都是大小写敏感的，这点就和SAS很不一样，比如我要打印iris这个数据集，如果我写成IRIS，R是不会认为IRIS就是iris这个数据集"
   ]
  },
  {
   "cell_type": "code",
   "execution_count": 20,
   "metadata": {},
   "outputs": [
    {
     "ename": "ERROR",
     "evalue": "Error in print(IRIS): 找不到对象'IRIS'\n",
     "output_type": "error",
     "traceback": [
      "Error in print(IRIS): 找不到对象'IRIS'\nTraceback:\n",
      "1. print(IRIS)"
     ]
    }
   ],
   "source": [
    "print(IRIS)"
   ]
  },
  {
   "cell_type": "markdown",
   "metadata": {},
   "source": [
    "### 2.2 符号\"<-\"\n",
    "\n",
    "在R中，个人建议，除了在给函数参数赋值的时候，也就是SAS里给宏参填变量的时候使用“=”这个符号，其他时候都用R的“<-”这个符号，\n",
    "为什么呢，因为是为了区别“==”和“=”，如果你=用多了，当你筛选数据集的时候，比如SAS中where a='1'，在R中也会写成a='1'，在R里是不对的，R中等于的符号是\"==\"，要写成a=='1'。\n",
    "\n",
    "那什么是\"<-\"呢，大家可以理解成赋予，给与之类的意思，就比如在SAS中我新建个数据集叫a,然后我把iris数据集给set进去，那R种的操作就是"
   ]
  },
  {
   "cell_type": "code",
   "execution_count": 21,
   "metadata": {},
   "outputs": [
    {
     "name": "stdout",
     "output_type": "stream",
     "text": [
      "  Sepal.Length Sepal.Width Petal.Length Petal.Width Species\n",
      "1          5.1         3.5          1.4         0.2  setosa\n",
      "2          4.9         3.0          1.4         0.2  setosa\n",
      "3          4.7         3.2          1.3         0.2  setosa\n",
      "4          4.6         3.1          1.5         0.2  setosa\n",
      "5          5.0         3.6          1.4         0.2  setosa\n"
     ]
    }
   ],
   "source": [
    "a <- iris\n",
    "print(head(a,5))"
   ]
  },
  {
   "cell_type": "markdown",
   "metadata": {},
   "source": [
    "### 2.3 对象\n",
    "\n",
    "在R中的对象有很多，这里我们就讲3个，向量，数据框，列表。在SAS中的对象可以概括就2个，数据集和宏变量。\n",
    "\n",
    "首先我们先来讲向量，什么是向量，大家可以看做是一个一维数组。类似sas中把一个数据集某一列拎出来，那这一列数据就是一个向量。\n",
    "向量有2个规定：\n",
    "1、向量用c（）来表示，用c括起来的就是向量，\n",
    "2、里面元素的类别必须一致，也就是要么都是字符型，要么都是数值型，要么都是布尔型也就是TRUE和FALSE\n",
    "\n",
    "下面我就创建了3个不同类型的向量"
   ]
  },
  {
   "cell_type": "code",
   "execution_count": 22,
   "metadata": {},
   "outputs": [
    {
     "name": "stdout",
     "output_type": "stream",
     "text": [
      "[1] 1 2 3\n",
      "[1] \"a\" \"b\" \"c\"\n",
      "[1]  TRUE  TRUE FALSE\n"
     ]
    }
   ],
   "source": [
    "a <- c(1,2,3)\n",
    "b <- c('a','b','c')\n",
    "c <- c(TRUE,TRUE,FALSE)\n",
    "print(a)\n",
    "print(b)\n",
    "print(c)"
   ]
  },
  {
   "cell_type": "markdown",
   "metadata": {},
   "source": [
    "如果我在向量申明的时候又写了字符型又写了数值型会怎么样呢，大家可以在下面的方框里试试然后print出来看看"
   ]
  },
  {
   "cell_type": "code",
   "execution_count": null,
   "metadata": {},
   "outputs": [],
   "source": []
  },
  {
   "cell_type": "markdown",
   "metadata": {},
   "source": [
    "接下来我们来说下数据框，其实也就是我们sas中的数据集的概念，基本是一模一样，但是我这里为啥一定要叫数据框呢，这是为了方便大家\n",
    "百度的时候更容易搜到想要的答案因为R相关的话题都叫数据框，如果搜数据集有可能就漏了你想搜的问题，哈哈。\n",
    "\n",
    "数据框可以看成一个个向量组成的，就比如拿刚刚生成的a向量和b向量生成个叫k的数据框我们就可以这样"
   ]
  },
  {
   "cell_type": "code",
   "execution_count": 23,
   "metadata": {},
   "outputs": [
    {
     "name": "stdout",
     "output_type": "stream",
     "text": [
      "  a b\n",
      "1 1 a\n",
      "2 2 b\n",
      "3 3 c\n"
     ]
    }
   ],
   "source": [
    "k <- data.frame(a,b)\n",
    "print(k)"
   ]
  },
  {
   "cell_type": "markdown",
   "metadata": {},
   "source": [
    "最后是列表，列表是用list（）来定义的，而列表我们可以看成是一个高级向量，因为什么东西都可以往列表里塞，比如我往列表l里面塞一个前面生成的a向量和数据集k"
   ]
  },
  {
   "cell_type": "code",
   "execution_count": 24,
   "metadata": {},
   "outputs": [
    {
     "name": "stdout",
     "output_type": "stream",
     "text": [
      "[[1]]\n",
      "[1] 1 2 3\n",
      "\n",
      "[[2]]\n",
      "  a b\n",
      "1 1 a\n",
      "2 2 b\n",
      "3 3 c\n",
      "\n"
     ]
    }
   ],
   "source": [
    "l <- list(a,k)\n",
    "print(l)"
   ]
  },
  {
   "cell_type": "markdown",
   "metadata": {},
   "source": [
    "当然我们也可以在列表里塞一个列表"
   ]
  },
  {
   "cell_type": "code",
   "execution_count": 25,
   "metadata": {},
   "outputs": [
    {
     "name": "stdout",
     "output_type": "stream",
     "text": [
      "[[1]]\n",
      "[1] 1 2 3\n",
      "\n",
      "[[2]]\n",
      "  a b\n",
      "1 1 a\n",
      "2 2 b\n",
      "3 3 c\n",
      "\n",
      "[[3]]\n",
      "[[3]][[1]]\n",
      "[1] 1 2 3\n",
      "\n",
      "[[3]][[2]]\n",
      "  a b\n",
      "1 1 a\n",
      "2 2 b\n",
      "3 3 c\n",
      "\n",
      "\n"
     ]
    }
   ],
   "source": [
    "m <- list(a,k,l)\n",
    "print(m)"
   ]
  },
  {
   "cell_type": "markdown",
   "metadata": {},
   "source": [
    "### 2.4 if语句\n",
    "\n",
    "R中 if语句的结构是 if(cond) {expr} 这里注意 if 后的cond一定要用括号（），这个和sas不一样，一定不能漏，然后如果括号里的条件为真，则就执行花括号{}里的内容"
   ]
  },
  {
   "cell_type": "code",
   "execution_count": 26,
   "metadata": {},
   "outputs": [
    {
     "name": "stdout",
     "output_type": "stream",
     "text": [
      "[1] \"7小于8\"\n"
     ]
    }
   ],
   "source": [
    "num <- 7\n",
    "if (num<8) {print(paste0(num,\"小于8\"))}"
   ]
  },
  {
   "cell_type": "markdown",
   "metadata": {},
   "source": [
    " 如果要加上else 这里有个特别注意的一点，就是else千万不能另起一行 一定要紧跟if表达式的最后一行，即使是个}也行"
   ]
  },
  {
   "cell_type": "code",
   "execution_count": 27,
   "metadata": {},
   "outputs": [
    {
     "name": "stdout",
     "output_type": "stream",
     "text": [
      "[1] \"9大于8\"\n"
     ]
    }
   ],
   "source": [
    "num_1 <- 9\n",
    "if (num_1<8) {\n",
    "    print(paste0(num_1,\"小于8\"))\n",
    "} else {print(paste0(num_1,\"大于8\"))}"
   ]
  },
  {
   "cell_type": "markdown",
   "metadata": {},
   "source": [
    "如果是如下code 就会报error"
   ]
  },
  {
   "cell_type": "code",
   "execution_count": 28,
   "metadata": {},
   "outputs": [
    {
     "ename": "ERROR",
     "evalue": "Error in parse(text = x, srcfile = src): <text>:5:1: 意外的'else'\n4: } \n5: else\n   ^\n",
     "output_type": "error",
     "traceback": [
      "Error in parse(text = x, srcfile = src): <text>:5:1: 意外的'else'\n4: } \n5: else\n   ^\nTraceback:\n"
     ]
    }
   ],
   "source": [
    "num_2 <- 9\n",
    "if (num_2<8) {\n",
    "    print(paste0(num_2,\"小于8\"))\n",
    "} \n",
    "else {print(paste0(num_2,\"大于8\"))}"
   ]
  },
  {
   "cell_type": "markdown",
   "metadata": {},
   "source": [
    "如果是多个else if 则是一样的规则"
   ]
  },
  {
   "cell_type": "code",
   "execution_count": 29,
   "metadata": {},
   "outputs": [
    {
     "name": "stdout",
     "output_type": "stream",
     "text": [
      "[1] \"8等于8\"\n"
     ]
    }
   ],
   "source": [
    "num_3 <- 8\n",
    "if (num_3<8) {\n",
    "    print(paste0(num_3,\"小于8\"))\n",
    "} else if (num_3==8) {\n",
    "    print(paste0(num_3,\"等于8\"))\n",
    "} else if (num_3>8) {\n",
    "    print(paste0(num_3,\"大于8\"))\n",
    "}"
   ]
  },
  {
   "cell_type": "markdown",
   "metadata": {},
   "source": [
    "### 2.5 for语句\n",
    "\n",
    "R里的循环，就是for语句，类似我们SAS中的do循环，for循环的结构是for (name in expr_1) {expr_2}。"
   ]
  },
  {
   "cell_type": "code",
   "execution_count": 30,
   "metadata": {},
   "outputs": [
    {
     "name": "stdout",
     "output_type": "stream",
     "text": [
      "[1] 1\n",
      "[1] 2\n",
      "[1] 3\n",
      "[1] 4\n",
      "[1] 5\n"
     ]
    }
   ],
   "source": [
    "for (i in 1:5) {\n",
    "    print(i)\n",
    "}"
   ]
  },
  {
   "cell_type": "markdown",
   "metadata": {},
   "source": [
    "in 后面的语句我们也可以写成对象，那就类似于我循环整个对象里每个元素，比如我循环列出之前a向量里的元素，我就可以这样写"
   ]
  },
  {
   "cell_type": "code",
   "execution_count": 31,
   "metadata": {},
   "outputs": [
    {
     "name": "stdout",
     "output_type": "stream",
     "text": [
      "[1] 1\n",
      "[1] 2\n",
      "[1] 3\n"
     ]
    }
   ],
   "source": [
    "for (i in a) {\n",
    "    print(i)\n",
    "}"
   ]
  },
  {
   "cell_type": "markdown",
   "metadata": {},
   "source": [
    "### 2.6 命名规则\n",
    "\n",
    "最后讲一下R和SAS的对象的命名规则，只有一点不一样，R里可以使用“.”加在列如变量名中，数据框名中，列如"
   ]
  },
  {
   "cell_type": "code",
   "execution_count": 32,
   "metadata": {},
   "outputs": [
    {
     "name": "stdout",
     "output_type": "stream",
     "text": [
      "[1] 1 2 3\n"
     ]
    }
   ],
   "source": [
    "a.a <- c(1,2,3)\n",
    "print(a.a)"
   ]
  }
 ],
 "metadata": {
  "kernelspec": {
   "display_name": "R",
   "language": "R",
   "name": "ir"
  },
  "language_info": {
   "codemirror_mode": "r",
   "file_extension": ".r",
   "mimetype": "text/x-r-source",
   "name": "R",
   "pygments_lexer": "r",
   "version": "4.0.3"
  },
  "toc-autonumbering": false,
  "toc-showcode": false,
  "toc-showmarkdowntxt": true,
  "toc-showtags": false
 },
 "nbformat": 4,
 "nbformat_minor": 4
}
