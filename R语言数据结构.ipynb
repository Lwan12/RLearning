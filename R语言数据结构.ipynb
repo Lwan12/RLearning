{
 "cells": [
  {
   "cell_type": "markdown",
   "metadata": {},
   "source": [
    "# 数据结构\n",
    "\n",
    "* R中有许多用于存储数据的结构，包括标量、向量、数组、数据框和列表。\n",
    "\n",
    "![数据结构存储](http://www.ituring.com.cn/figures/2016/R2/08.d02z.001.png)\n",
    "\n",
    "* R可以处理的数据类型（模式）包括数值型、字符型、逻辑型（TRUE/FALSE）、复数型（虚数）和原生型（字节）\n",
    "***\n",
    "#### 一些定义\n",
    "+ *在R中，对象（object）是指可以赋值给变量的任何事物，包括常量、数据结构、函数，甚至图形。*\n",
    "+ *与其他标准统计软件（如SAS、SPSS和Stata）中的数据集类似，数据框（data frame）是R中用于存储数据的一种结构：列表示变量，行表示观测。*\n",
    "+ *因子（factor）是名义型变量或有序型变量。*\n"
   ]
  },
  {
   "cell_type": "markdown",
   "metadata": {},
   "source": [
    "## 向量\n",
    "\n",
    "* 向量是用于存储数值型、字符型或逻辑型数据\n",
    "* 是一维数组\n",
    "* 用函数c()来创建\n",
    "* 同一向量中无法混杂不同模式的数据\n",
    "* 标量是只含一个元素的向量\n",
    "* 通过在方括号中给定元素所处位置的数值，可以访问向量中的元素\n",
    "* 可以使用冒号生成一个数值序列\n"
   ]
  },
  {
   "cell_type": "code",
   "execution_count": 7,
   "metadata": {
    "collapsed": true,
    "jupyter": {
     "outputs_hidden": true
    }
   },
   "outputs": [
    {
     "data": {
      "text/html": [
       "5"
      ],
      "text/latex": [
       "5"
      ],
      "text/markdown": [
       "5"
      ],
      "text/plain": [
       "[1] 5"
      ]
     },
     "metadata": {},
     "output_type": "display_data"
    },
    {
     "data": {
      "text/html": [
       "<style>\n",
       ".list-inline {list-style: none; margin:0; padding: 0}\n",
       ".list-inline>li {display: inline-block}\n",
       ".list-inline>li:not(:last-child)::after {content: \"\\00b7\"; padding: 0 .5ex}\n",
       "</style>\n",
       "<ol class=list-inline><li>1</li><li>5</li><li>6</li></ol>\n"
      ],
      "text/latex": [
       "\\begin{enumerate*}\n",
       "\\item 1\n",
       "\\item 5\n",
       "\\item 6\n",
       "\\end{enumerate*}\n"
      ],
      "text/markdown": [
       "1. 1\n",
       "2. 5\n",
       "3. 6\n",
       "\n",
       "\n"
      ],
      "text/plain": [
       "[1] 1 5 6"
      ]
     },
     "metadata": {},
     "output_type": "display_data"
    },
    {
     "data": {
      "text/html": [
       "<style>\n",
       ".list-inline {list-style: none; margin:0; padding: 0}\n",
       ".list-inline>li {display: inline-block}\n",
       ".list-inline>li:not(:last-child)::after {content: \"\\00b7\"; padding: 0 .5ex}\n",
       "</style>\n",
       "<ol class=list-inline><li>2</li><li>5</li><li>3</li><li>6</li><li>-2</li></ol>\n"
      ],
      "text/latex": [
       "\\begin{enumerate*}\n",
       "\\item 2\n",
       "\\item 5\n",
       "\\item 3\n",
       "\\item 6\n",
       "\\item -2\n",
       "\\end{enumerate*}\n"
      ],
      "text/markdown": [
       "1. 2\n",
       "2. 5\n",
       "3. 3\n",
       "4. 6\n",
       "5. -2\n",
       "\n",
       "\n"
      ],
      "text/plain": [
       "[1]  2  5  3  6 -2"
      ]
     },
     "metadata": {},
     "output_type": "display_data"
    }
   ],
   "source": [
    "#各类向量示例\n",
    "a <- c(1, 2, 5, 3, 6, -2, 4)\n",
    "b <- c(\"one\", \"two\", \"three\")\n",
    "c <- c(TRUE, TRUE, TRUE, FALSE, TRUE, FALSE)\n",
    "\n",
    "#访问向量\n",
    "a <- c(1, 2, 5, 3, 6, -2, 4)\n",
    "a[3]\n",
    "a[c(1, 3, 5)]\n",
    "a[2:6]  \n"
   ]
  },
  {
   "cell_type": "markdown",
   "metadata": {},
   "source": [
    "## 矩阵\n",
    "\n",
    "* 是二维数组\n",
    "* 用函数matrix()创建\n",
    "* 同一矩阵中无法混杂不同模式的数据\n",
    "* 通过下标和方括号来选择矩阵中的行、列或元素"
   ]
  },
  {
   "cell_type": "code",
   "execution_count": 25,
   "metadata": {
    "collapsed": true,
    "jupyter": {
     "outputs_hidden": true
    }
   },
   "outputs": [
    {
     "data": {
      "text/html": [
       "<table>\n",
       "<caption>A matrix: 5 × 4 of type int</caption>\n",
       "<tbody>\n",
       "\t<tr><td>1</td><td> 6</td><td>11</td><td>16</td></tr>\n",
       "\t<tr><td>2</td><td> 7</td><td>12</td><td>17</td></tr>\n",
       "\t<tr><td>3</td><td> 8</td><td>13</td><td>18</td></tr>\n",
       "\t<tr><td>4</td><td> 9</td><td>14</td><td>19</td></tr>\n",
       "\t<tr><td>5</td><td>10</td><td>15</td><td>20</td></tr>\n",
       "</tbody>\n",
       "</table>\n"
      ],
      "text/latex": [
       "A matrix: 5 × 4 of type int\n",
       "\\begin{tabular}{llll}\n",
       "\t 1 &  6 & 11 & 16\\\\\n",
       "\t 2 &  7 & 12 & 17\\\\\n",
       "\t 3 &  8 & 13 & 18\\\\\n",
       "\t 4 &  9 & 14 & 19\\\\\n",
       "\t 5 & 10 & 15 & 20\\\\\n",
       "\\end{tabular}\n"
      ],
      "text/markdown": [
       "\n",
       "A matrix: 5 × 4 of type int\n",
       "\n",
       "| 1 |  6 | 11 | 16 |\n",
       "| 2 |  7 | 12 | 17 |\n",
       "| 3 |  8 | 13 | 18 |\n",
       "| 4 |  9 | 14 | 19 |\n",
       "| 5 | 10 | 15 | 20 |\n",
       "\n"
      ],
      "text/plain": [
       "     [,1] [,2] [,3] [,4]\n",
       "[1,] 1     6   11   16  \n",
       "[2,] 2     7   12   17  \n",
       "[3,] 3     8   13   18  \n",
       "[4,] 4     9   14   19  \n",
       "[5,] 5    10   15   20  "
      ]
     },
     "metadata": {},
     "output_type": "display_data"
    },
    {
     "data": {
      "text/html": [
       "<table>\n",
       "<caption>A matrix: 2 × 2 of type dbl</caption>\n",
       "<thead>\n",
       "\t<tr><th></th><th scope=col>C1</th><th scope=col>C2</th></tr>\n",
       "</thead>\n",
       "<tbody>\n",
       "\t<tr><th scope=row>R1</th><td> 1</td><td>26</td></tr>\n",
       "\t<tr><th scope=row>R2</th><td>24</td><td>68</td></tr>\n",
       "</tbody>\n",
       "</table>\n"
      ],
      "text/latex": [
       "A matrix: 2 × 2 of type dbl\n",
       "\\begin{tabular}{r|ll}\n",
       "  & C1 & C2\\\\\n",
       "\\hline\n",
       "\tR1 &  1 & 26\\\\\n",
       "\tR2 & 24 & 68\\\\\n",
       "\\end{tabular}\n"
      ],
      "text/markdown": [
       "\n",
       "A matrix: 2 × 2 of type dbl\n",
       "\n",
       "| <!--/--> | C1 | C2 |\n",
       "|---|---|---|\n",
       "| R1 |  1 | 26 |\n",
       "| R2 | 24 | 68 |\n",
       "\n"
      ],
      "text/plain": [
       "   C1 C2\n",
       "R1  1 26\n",
       "R2 24 68"
      ]
     },
     "metadata": {},
     "output_type": "display_data"
    },
    {
     "data": {
      "text/html": [
       "<table>\n",
       "<caption>A matrix: 2 × 2 of type dbl</caption>\n",
       "<thead>\n",
       "\t<tr><th></th><th scope=col>C1</th><th scope=col>C2</th></tr>\n",
       "</thead>\n",
       "<tbody>\n",
       "\t<tr><th scope=row>R1</th><td> 1</td><td>24</td></tr>\n",
       "\t<tr><th scope=row>R2</th><td>26</td><td>68</td></tr>\n",
       "</tbody>\n",
       "</table>\n"
      ],
      "text/latex": [
       "A matrix: 2 × 2 of type dbl\n",
       "\\begin{tabular}{r|ll}\n",
       "  & C1 & C2\\\\\n",
       "\\hline\n",
       "\tR1 &  1 & 24\\\\\n",
       "\tR2 & 26 & 68\\\\\n",
       "\\end{tabular}\n"
      ],
      "text/markdown": [
       "\n",
       "A matrix: 2 × 2 of type dbl\n",
       "\n",
       "| <!--/--> | C1 | C2 |\n",
       "|---|---|---|\n",
       "| R1 |  1 | 24 |\n",
       "| R2 | 26 | 68 |\n",
       "\n"
      ],
      "text/plain": [
       "   C1 C2\n",
       "R1  1 24\n",
       "R2 26 68"
      ]
     },
     "metadata": {},
     "output_type": "display_data"
    },
    {
     "data": {
      "text/html": [
       "<table>\n",
       "<caption>A matrix: 2 × 5 of type int</caption>\n",
       "<tbody>\n",
       "\t<tr><td>1</td><td>3</td><td>5</td><td>7</td><td> 9</td></tr>\n",
       "\t<tr><td>2</td><td>4</td><td>6</td><td>8</td><td>10</td></tr>\n",
       "</tbody>\n",
       "</table>\n"
      ],
      "text/latex": [
       "A matrix: 2 × 5 of type int\n",
       "\\begin{tabular}{lllll}\n",
       "\t 1 & 3 & 5 & 7 &  9\\\\\n",
       "\t 2 & 4 & 6 & 8 & 10\\\\\n",
       "\\end{tabular}\n"
      ],
      "text/markdown": [
       "\n",
       "A matrix: 2 × 5 of type int\n",
       "\n",
       "| 1 | 3 | 5 | 7 |  9 |\n",
       "| 2 | 4 | 6 | 8 | 10 |\n",
       "\n"
      ],
      "text/plain": [
       "     [,1] [,2] [,3] [,4] [,5]\n",
       "[1,] 1    3    5    7     9  \n",
       "[2,] 2    4    6    8    10  "
      ]
     },
     "metadata": {},
     "output_type": "display_data"
    },
    {
     "data": {
      "text/html": [
       "<style>\n",
       ".list-inline {list-style: none; margin:0; padding: 0}\n",
       ".list-inline>li {display: inline-block}\n",
       ".list-inline>li:not(:last-child)::after {content: \"\\00b7\"; padding: 0 .5ex}\n",
       "</style>\n",
       "<ol class=list-inline><li>2</li><li>4</li><li>6</li><li>8</li><li>10</li></ol>\n"
      ],
      "text/latex": [
       "\\begin{enumerate*}\n",
       "\\item 2\n",
       "\\item 4\n",
       "\\item 6\n",
       "\\item 8\n",
       "\\item 10\n",
       "\\end{enumerate*}\n"
      ],
      "text/markdown": [
       "1. 2\n",
       "2. 4\n",
       "3. 6\n",
       "4. 8\n",
       "5. 10\n",
       "\n",
       "\n"
      ],
      "text/plain": [
       "[1]  2  4  6  8 10"
      ]
     },
     "metadata": {},
     "output_type": "display_data"
    },
    {
     "data": {
      "text/html": [
       "<style>\n",
       ".list-inline {list-style: none; margin:0; padding: 0}\n",
       ".list-inline>li {display: inline-block}\n",
       ".list-inline>li:not(:last-child)::after {content: \"\\00b7\"; padding: 0 .5ex}\n",
       "</style>\n",
       "<ol class=list-inline><li>3</li><li>4</li></ol>\n"
      ],
      "text/latex": [
       "\\begin{enumerate*}\n",
       "\\item 3\n",
       "\\item 4\n",
       "\\end{enumerate*}\n"
      ],
      "text/markdown": [
       "1. 3\n",
       "2. 4\n",
       "\n",
       "\n"
      ],
      "text/plain": [
       "[1] 3 4"
      ]
     },
     "metadata": {},
     "output_type": "display_data"
    },
    {
     "data": {
      "text/html": [
       "7"
      ],
      "text/latex": [
       "7"
      ],
      "text/markdown": [
       "7"
      ],
      "text/plain": [
       "[1] 7"
      ]
     },
     "metadata": {},
     "output_type": "display_data"
    },
    {
     "data": {
      "text/html": [
       "<style>\n",
       ".list-inline {list-style: none; margin:0; padding: 0}\n",
       ".list-inline>li {display: inline-block}\n",
       ".list-inline>li:not(:last-child)::after {content: \"\\00b7\"; padding: 0 .5ex}\n",
       "</style>\n",
       "<ol class=list-inline><li>7</li><li>9</li></ol>\n"
      ],
      "text/latex": [
       "\\begin{enumerate*}\n",
       "\\item 7\n",
       "\\item 9\n",
       "\\end{enumerate*}\n"
      ],
      "text/markdown": [
       "1. 7\n",
       "2. 9\n",
       "\n",
       "\n"
      ],
      "text/plain": [
       "[1] 7 9"
      ]
     },
     "metadata": {},
     "output_type": "display_data"
    }
   ],
   "source": [
    "#创建矩阵\n",
    "y <- matrix(1:20, nrow=5, ncol=4)\n",
    "y\n",
    "cells    <- c(1,26,24,68)\n",
    "rnames   <- c(\"R1\", \"R2\")\n",
    "cnames   <- c(\"C1\", \"C2\") \n",
    "mymatrix <- matrix(cells, nrow=2, ncol=2, byrow=TRUE,\n",
    "                   dimnames=list(rnames, cnames)) \n",
    "mymatrix\n",
    "mymatrix <- matrix(cells, nrow=2, ncol=2, byrow=FALSE,\n",
    "                   dimnames=list(rnames, cnames))\n",
    "mymatrix\n",
    "\n",
    "#访问矩阵\n",
    "x <- matrix(1:10, nrow=2)\n",
    "x\n",
    "x[2,]\n",
    "x[,2]\n",
    "x[1,4]\n",
    "x[1, c(4,5)]"
   ]
  },
  {
   "cell_type": "markdown",
   "metadata": {},
   "source": [
    "## 数组\n",
    "\n",
    "* 维度可以大于2，类似矩阵\n",
    "* 用函数array()创建\n",
    "* 同一数组中无法混杂不同模式的数据\n",
    "* 选取方式也与矩阵相同"
   ]
  },
  {
   "cell_type": "code",
   "execution_count": 26,
   "metadata": {},
   "outputs": [
    {
     "data": {
      "text/html": [
       "<style>\n",
       ".list-inline {list-style: none; margin:0; padding: 0}\n",
       ".list-inline>li {display: inline-block}\n",
       ".list-inline>li:not(:last-child)::after {content: \"\\00b7\"; padding: 0 .5ex}\n",
       "</style>\n",
       "<ol class=list-inline><li>1</li><li>2</li><li>3</li><li>4</li><li>5</li><li>6</li><li>7</li><li>8</li><li>9</li><li>10</li><li>11</li><li>12</li><li>13</li><li>14</li><li>15</li><li>16</li><li>17</li><li>18</li><li>19</li><li>20</li><li>21</li><li>22</li><li>23</li><li>24</li></ol>\n"
      ],
      "text/latex": [
       "\\begin{enumerate*}\n",
       "\\item 1\n",
       "\\item 2\n",
       "\\item 3\n",
       "\\item 4\n",
       "\\item 5\n",
       "\\item 6\n",
       "\\item 7\n",
       "\\item 8\n",
       "\\item 9\n",
       "\\item 10\n",
       "\\item 11\n",
       "\\item 12\n",
       "\\item 13\n",
       "\\item 14\n",
       "\\item 15\n",
       "\\item 16\n",
       "\\item 17\n",
       "\\item 18\n",
       "\\item 19\n",
       "\\item 20\n",
       "\\item 21\n",
       "\\item 22\n",
       "\\item 23\n",
       "\\item 24\n",
       "\\end{enumerate*}\n"
      ],
      "text/markdown": [
       "1. 1\n",
       "2. 2\n",
       "3. 3\n",
       "4. 4\n",
       "5. 5\n",
       "6. 6\n",
       "7. 7\n",
       "8. 8\n",
       "9. 9\n",
       "10. 10\n",
       "11. 11\n",
       "12. 12\n",
       "13. 13\n",
       "14. 14\n",
       "15. 15\n",
       "16. 16\n",
       "17. 17\n",
       "18. 18\n",
       "19. 19\n",
       "20. 20\n",
       "21. 21\n",
       "22. 22\n",
       "23. 23\n",
       "24. 24\n",
       "\n",
       "\n"
      ],
      "text/plain": [
       ", , C1\n",
       "\n",
       "   B1 B2 B3\n",
       "A1  1  3  5\n",
       "A2  2  4  6\n",
       "\n",
       ", , C2\n",
       "\n",
       "   B1 B2 B3\n",
       "A1  7  9 11\n",
       "A2  8 10 12\n",
       "\n",
       ", , C3\n",
       "\n",
       "   B1 B2 B3\n",
       "A1 13 15 17\n",
       "A2 14 16 18\n",
       "\n",
       ", , C4\n",
       "\n",
       "   B1 B2 B3\n",
       "A1 19 21 23\n",
       "A2 20 22 24\n"
      ]
     },
     "metadata": {},
     "output_type": "display_data"
    },
    {
     "data": {
      "text/html": [
       "<table>\n",
       "<caption>A matrix: 3 × 4 of type int</caption>\n",
       "<thead>\n",
       "\t<tr><th></th><th scope=col>C1</th><th scope=col>C2</th><th scope=col>C3</th><th scope=col>C4</th></tr>\n",
       "</thead>\n",
       "<tbody>\n",
       "\t<tr><th scope=row>B1</th><td>1</td><td> 7</td><td>13</td><td>19</td></tr>\n",
       "\t<tr><th scope=row>B2</th><td>3</td><td> 9</td><td>15</td><td>21</td></tr>\n",
       "\t<tr><th scope=row>B3</th><td>5</td><td>11</td><td>17</td><td>23</td></tr>\n",
       "</tbody>\n",
       "</table>\n"
      ],
      "text/latex": [
       "A matrix: 3 × 4 of type int\n",
       "\\begin{tabular}{r|llll}\n",
       "  & C1 & C2 & C3 & C4\\\\\n",
       "\\hline\n",
       "\tB1 & 1 &  7 & 13 & 19\\\\\n",
       "\tB2 & 3 &  9 & 15 & 21\\\\\n",
       "\tB3 & 5 & 11 & 17 & 23\\\\\n",
       "\\end{tabular}\n"
      ],
      "text/markdown": [
       "\n",
       "A matrix: 3 × 4 of type int\n",
       "\n",
       "| <!--/--> | C1 | C2 | C3 | C4 |\n",
       "|---|---|---|---|---|\n",
       "| B1 | 1 |  7 | 13 | 19 |\n",
       "| B2 | 3 |  9 | 15 | 21 |\n",
       "| B3 | 5 | 11 | 17 | 23 |\n",
       "\n"
      ],
      "text/plain": [
       "   C1 C2 C3 C4\n",
       "B1 1   7 13 19\n",
       "B2 3   9 15 21\n",
       "B3 5  11 17 23"
      ]
     },
     "metadata": {},
     "output_type": "display_data"
    },
    {
     "data": {
      "text/html": [
       "<style>\n",
       ".dl-inline {width: auto; margin:0; padding: 0}\n",
       ".dl-inline>dt, .dl-inline>dd {float: none; width: auto; display: inline-block}\n",
       ".dl-inline>dt::after {content: \":\\0020\"; padding-right: .5ex}\n",
       ".dl-inline>dt:not(:first-of-type) {padding-left: .5ex}\n",
       "</style><dl class=dl-inline><dt>C1</dt><dd>3</dd><dt>C2</dt><dd>9</dd><dt>C3</dt><dd>15</dd><dt>C4</dt><dd>21</dd></dl>\n"
      ],
      "text/latex": [
       "\\begin{description*}\n",
       "\\item[C1] 3\n",
       "\\item[C2] 9\n",
       "\\item[C3] 15\n",
       "\\item[C4] 21\n",
       "\\end{description*}\n"
      ],
      "text/markdown": [
       "C1\n",
       ":   3C2\n",
       ":   9C3\n",
       ":   15C4\n",
       ":   21\n",
       "\n"
      ],
      "text/plain": [
       "C1 C2 C3 C4 \n",
       " 3  9 15 21 "
      ]
     },
     "metadata": {},
     "output_type": "display_data"
    },
    {
     "data": {
      "text/html": [
       "15"
      ],
      "text/latex": [
       "15"
      ],
      "text/markdown": [
       "15"
      ],
      "text/plain": [
       "[1] 15"
      ]
     },
     "metadata": {},
     "output_type": "display_data"
    }
   ],
   "source": [
    "#创建矩阵\n",
    "dim1 <- c(\"A1\", \"A2\")\n",
    "dim2 <- c(\"B1\", \"B2\", \"B3\")\n",
    "dim3 <- c(\"C1\", \"C2\", \"C3\", \"C4\")\n",
    "#4个2x3的矩阵\n",
    "z <- array(1:24, c(2,3,4), dimnames=list(dim1, dim2, dim3))\n",
    "z\n",
    "z[1,,]\n",
    "z[1,2,]\n",
    "z[1,2,3]"
   ]
  },
  {
   "cell_type": "markdown",
   "metadata": {},
   "source": [
    "## 数据框\n",
    "\n",
    "* 与你通常在SAS、SPSS和Stata中看到的数据集类似，是R中最常处理的数据结构\n",
    "* 可以通过函数data.frame()创建\n",
    "* 不同的列可以包含不同模式（数值型、字符型等）的数据，同一列数据的模式必须唯一\n",
    "* 选取数据框中元素的方式，可以使用如矩阵一样的下标记号，也可直接指定列名\n"
   ]
  },
  {
   "cell_type": "code",
   "execution_count": 14,
   "metadata": {
    "collapsed": true,
    "jupyter": {
     "outputs_hidden": true
    }
   },
   "outputs": [
    {
     "data": {
      "text/html": [
       "<table>\n",
       "<caption>A data.frame: 4 × 4</caption>\n",
       "<thead>\n",
       "\t<tr><th scope=col>patientID</th><th scope=col>age</th><th scope=col>diabetes</th><th scope=col>status</th></tr>\n",
       "\t<tr><th scope=col>&lt;dbl&gt;</th><th scope=col>&lt;dbl&gt;</th><th scope=col>&lt;chr&gt;</th><th scope=col>&lt;chr&gt;</th></tr>\n",
       "</thead>\n",
       "<tbody>\n",
       "\t<tr><td>1</td><td>25</td><td>Type1</td><td>Poor     </td></tr>\n",
       "\t<tr><td>2</td><td>34</td><td>Type2</td><td>Improved </td></tr>\n",
       "\t<tr><td>3</td><td>28</td><td>Type1</td><td>Excellent</td></tr>\n",
       "\t<tr><td>4</td><td>52</td><td>Type1</td><td>Poor     </td></tr>\n",
       "</tbody>\n",
       "</table>\n"
      ],
      "text/latex": [
       "A data.frame: 4 × 4\n",
       "\\begin{tabular}{llll}\n",
       " patientID & age & diabetes & status\\\\\n",
       " <dbl> & <dbl> & <chr> & <chr>\\\\\n",
       "\\hline\n",
       "\t 1 & 25 & Type1 & Poor     \\\\\n",
       "\t 2 & 34 & Type2 & Improved \\\\\n",
       "\t 3 & 28 & Type1 & Excellent\\\\\n",
       "\t 4 & 52 & Type1 & Poor     \\\\\n",
       "\\end{tabular}\n"
      ],
      "text/markdown": [
       "\n",
       "A data.frame: 4 × 4\n",
       "\n",
       "| patientID &lt;dbl&gt; | age &lt;dbl&gt; | diabetes &lt;chr&gt; | status &lt;chr&gt; |\n",
       "|---|---|---|---|\n",
       "| 1 | 25 | Type1 | Poor      |\n",
       "| 2 | 34 | Type2 | Improved  |\n",
       "| 3 | 28 | Type1 | Excellent |\n",
       "| 4 | 52 | Type1 | Poor      |\n",
       "\n"
      ],
      "text/plain": [
       "  patientID age diabetes status   \n",
       "1 1         25  Type1    Poor     \n",
       "2 2         34  Type2    Improved \n",
       "3 3         28  Type1    Excellent\n",
       "4 4         52  Type1    Poor     "
      ]
     },
     "metadata": {},
     "output_type": "display_data"
    },
    {
     "data": {
      "text/html": [
       "<table>\n",
       "<caption>A data.frame: 4 × 2</caption>\n",
       "<thead>\n",
       "\t<tr><th scope=col>patientID</th><th scope=col>age</th></tr>\n",
       "\t<tr><th scope=col>&lt;dbl&gt;</th><th scope=col>&lt;dbl&gt;</th></tr>\n",
       "</thead>\n",
       "<tbody>\n",
       "\t<tr><td>1</td><td>25</td></tr>\n",
       "\t<tr><td>2</td><td>34</td></tr>\n",
       "\t<tr><td>3</td><td>28</td></tr>\n",
       "\t<tr><td>4</td><td>52</td></tr>\n",
       "</tbody>\n",
       "</table>\n"
      ],
      "text/latex": [
       "A data.frame: 4 × 2\n",
       "\\begin{tabular}{ll}\n",
       " patientID & age\\\\\n",
       " <dbl> & <dbl>\\\\\n",
       "\\hline\n",
       "\t 1 & 25\\\\\n",
       "\t 2 & 34\\\\\n",
       "\t 3 & 28\\\\\n",
       "\t 4 & 52\\\\\n",
       "\\end{tabular}\n"
      ],
      "text/markdown": [
       "\n",
       "A data.frame: 4 × 2\n",
       "\n",
       "| patientID &lt;dbl&gt; | age &lt;dbl&gt; |\n",
       "|---|---|\n",
       "| 1 | 25 |\n",
       "| 2 | 34 |\n",
       "| 3 | 28 |\n",
       "| 4 | 52 |\n",
       "\n"
      ],
      "text/plain": [
       "  patientID age\n",
       "1 1         25 \n",
       "2 2         34 \n",
       "3 3         28 \n",
       "4 4         52 "
      ]
     },
     "metadata": {},
     "output_type": "display_data"
    },
    {
     "data": {
      "text/html": [
       "<table>\n",
       "<caption>A data.frame: 4 × 2</caption>\n",
       "<thead>\n",
       "\t<tr><th scope=col>diabetes</th><th scope=col>status</th></tr>\n",
       "\t<tr><th scope=col>&lt;chr&gt;</th><th scope=col>&lt;chr&gt;</th></tr>\n",
       "</thead>\n",
       "<tbody>\n",
       "\t<tr><td>Type1</td><td>Poor     </td></tr>\n",
       "\t<tr><td>Type2</td><td>Improved </td></tr>\n",
       "\t<tr><td>Type1</td><td>Excellent</td></tr>\n",
       "\t<tr><td>Type1</td><td>Poor     </td></tr>\n",
       "</tbody>\n",
       "</table>\n"
      ],
      "text/latex": [
       "A data.frame: 4 × 2\n",
       "\\begin{tabular}{ll}\n",
       " diabetes & status\\\\\n",
       " <chr> & <chr>\\\\\n",
       "\\hline\n",
       "\t Type1 & Poor     \\\\\n",
       "\t Type2 & Improved \\\\\n",
       "\t Type1 & Excellent\\\\\n",
       "\t Type1 & Poor     \\\\\n",
       "\\end{tabular}\n"
      ],
      "text/markdown": [
       "\n",
       "A data.frame: 4 × 2\n",
       "\n",
       "| diabetes &lt;chr&gt; | status &lt;chr&gt; |\n",
       "|---|---|\n",
       "| Type1 | Poor      |\n",
       "| Type2 | Improved  |\n",
       "| Type1 | Excellent |\n",
       "| Type1 | Poor      |\n",
       "\n"
      ],
      "text/plain": [
       "  diabetes status   \n",
       "1 Type1    Poor     \n",
       "2 Type2    Improved \n",
       "3 Type1    Excellent\n",
       "4 Type1    Poor     "
      ]
     },
     "metadata": {},
     "output_type": "display_data"
    },
    {
     "data": {
      "text/html": [
       "<style>\n",
       ".list-inline {list-style: none; margin:0; padding: 0}\n",
       ".list-inline>li {display: inline-block}\n",
       ".list-inline>li:not(:last-child)::after {content: \"\\00b7\"; padding: 0 .5ex}\n",
       "</style>\n",
       "<ol class=list-inline><li>25</li><li>34</li><li>28</li><li>52</li></ol>\n"
      ],
      "text/latex": [
       "\\begin{enumerate*}\n",
       "\\item 25\n",
       "\\item 34\n",
       "\\item 28\n",
       "\\item 52\n",
       "\\end{enumerate*}\n"
      ],
      "text/markdown": [
       "1. 25\n",
       "2. 34\n",
       "3. 28\n",
       "4. 52\n",
       "\n",
       "\n"
      ],
      "text/plain": [
       "[1] 25 34 28 52"
      ]
     },
     "metadata": {},
     "output_type": "display_data"
    }
   ],
   "source": [
    "#创建数据框\n",
    "patientID <- c(1, 2, 3, 4)\n",
    "age <- c(25, 34, 28, 52)\n",
    "diabetes <- c(\"Type1\", \"Type2\", \"Type1\", \"Type1\")\n",
    "status <- c(\"Poor\", \"Improved\", \"Excellent\", \"Poor\")\n",
    "patientdata <- data.frame(patientID, age, diabetes, status)\n",
    "patientdata\n",
    "\n",
    "#访问数据框\n",
    "patientdata[1:2]\n",
    "patientdata[c(\"diabetes\",\"status\")]\n",
    "patientdata$age "
   ]
  },
  {
   "cell_type": "markdown",
   "metadata": {},
   "source": [
    "#### attach()、detach()和with()\n",
    "\n",
    "类似于SAS中Data步\n",
    "* 函数attach()可将数据框添加到R的搜索路径中\n",
    "* 函数detach()将数据框从搜索路径中移除\n",
    "* 函数attach()和detach()最好在你分析一个单独的数据框，并且不太可能有多个同名对象时使用\n",
    "* 同名情况下原始对象将取得优先权\n",
    "* 函数with()赋值仅在此函数的括号内生效的Data步，但可使用特殊赋值符<<-替代标准赋值符，使得赋值全局通用"
   ]
  },
  {
   "cell_type": "code",
   "execution_count": 15,
   "metadata": {
    "collapsed": true,
    "jupyter": {
     "outputs_hidden": true
    }
   },
   "outputs": [
    {
     "data": {
      "text/plain": [
       "   Min. 1st Qu.  Median    Mean 3rd Qu.    Max. \n",
       "  10.40   15.43   19.20   20.09   22.80   33.90 "
      ]
     },
     "metadata": {},
     "output_type": "display_data"
    },
    {
     "data": {
      "image/png": "[encoded data removed]",
      "text/plain": [
       "plot without title"
      ]
     },
     "metadata": {
      "image/png": {
       "height": 420,
       "width": 420
      }
     },
     "output_type": "display_data"
    },
    {
     "data": {
      "text/plain": [
       "   Min. 1st Qu.  Median    Mean 3rd Qu.    Max. \n",
       "  10.40   15.43   19.20   20.09   22.80   33.90 "
      ]
     },
     "metadata": {},
     "output_type": "display_data"
    },
    {
     "data": {
      "image/png": "[encoded data removed]",
      "text/plain": [
       "plot without title"
      ]
     },
     "metadata": {
      "image/png": {
       "height": 420,
       "width": 420
      }
     },
     "output_type": "display_data"
    },
    {
     "data": {
      "image/png": "[encoded data removed]",
      "text/plain": [
       "plot without title"
      ]
     },
     "metadata": {
      "image/png": {
       "height": 420,
       "width": 420
      }
     },
     "output_type": "display_data"
    },
    {
     "data": {
      "image/png": "[encoded data removed]",
      "text/plain": [
       "plot without title"
      ]
     },
     "metadata": {
      "image/png": {
       "height": 420,
       "width": 420
      }
     },
     "output_type": "display_data"
    }
   ],
   "source": [
    "#示例1\n",
    "summary(mtcars$mpg)\n",
    "plot(mtcars$mpg, mtcars$disp)\n",
    "plot(mtcars$mpg, mtcars$wt)\n",
    "\n",
    "attach(mtcars)\n",
    "  summary(mpg)\n",
    "  plot(mpg, disp)\n",
    "  plot(mpg, wt)\n",
    "detach(mtcars)\n",
    "\n",
    "#示例2\n",
    "mpg <- c(25, 36, 47)\n",
    "attach(mtcars)\n",
    "plot(mpg, wt)\n",
    "mpg\n",
    "\n",
    "#示例3\n",
    "with(mtcars, {\n",
    "  print(summary(mpg))\n",
    "  plot(mpg, disp)\n",
    "  plot(mpg, wt)\n",
    "})\n",
    "\n",
    "#示例4\n",
    "with(mtcars, {\n",
    "   nokeepstats <- summary(mpg)\n",
    "   keepstats <<- summary(mpg)\n",
    "})\n",
    "nokeepstats\n",
    "keepstats"
   ]
  },
  {
   "cell_type": "markdown",
   "metadata": {},
   "source": [
    "#### 实例标识符\n",
    "\n",
    "实例标识符是rowname（行名），可以在函数中指定变量为实例标识符"
   ]
  },
  {
   "cell_type": "code",
   "execution_count": 20,
   "metadata": {
    "collapsed": true,
    "jupyter": {
     "outputs_hidden": true
    }
   },
   "outputs": [
    {
     "data": {
      "text/html": [
       "<table>\n",
       "<caption>A data.frame: 4 × 4</caption>\n",
       "<thead>\n",
       "\t<tr><th></th><th scope=col>patientID</th><th scope=col>age</th><th scope=col>diabetes</th><th scope=col>status</th></tr>\n",
       "\t<tr><th></th><th scope=col>&lt;dbl&gt;</th><th scope=col>&lt;dbl&gt;</th><th scope=col>&lt;chr&gt;</th><th scope=col>&lt;chr&gt;</th></tr>\n",
       "</thead>\n",
       "<tbody>\n",
       "\t<tr><th scope=row>25</th><td>1</td><td>25</td><td>Type1</td><td>Poor     </td></tr>\n",
       "\t<tr><th scope=row>34</th><td>2</td><td>34</td><td>Type2</td><td>Improved </td></tr>\n",
       "\t<tr><th scope=row>28</th><td>3</td><td>28</td><td>Type1</td><td>Excellent</td></tr>\n",
       "\t<tr><th scope=row>52</th><td>4</td><td>52</td><td>Type1</td><td>Poor     </td></tr>\n",
       "</tbody>\n",
       "</table>\n"
      ],
      "text/latex": [
       "A data.frame: 4 × 4\n",
       "\\begin{tabular}{r|llll}\n",
       "  & patientID & age & diabetes & status\\\\\n",
       "  & <dbl> & <dbl> & <chr> & <chr>\\\\\n",
       "\\hline\n",
       "\t25 & 1 & 25 & Type1 & Poor     \\\\\n",
       "\t34 & 2 & 34 & Type2 & Improved \\\\\n",
       "\t28 & 3 & 28 & Type1 & Excellent\\\\\n",
       "\t52 & 4 & 52 & Type1 & Poor     \\\\\n",
       "\\end{tabular}\n"
      ],
      "text/markdown": [
       "\n",
       "A data.frame: 4 × 4\n",
       "\n",
       "| <!--/--> | patientID &lt;dbl&gt; | age &lt;dbl&gt; | diabetes &lt;chr&gt; | status &lt;chr&gt; |\n",
       "|---|---|---|---|---|\n",
       "| 25 | 1 | 25 | Type1 | Poor      |\n",
       "| 34 | 2 | 34 | Type2 | Improved  |\n",
       "| 28 | 3 | 28 | Type1 | Excellent |\n",
       "| 52 | 4 | 52 | Type1 | Poor      |\n",
       "\n"
      ],
      "text/plain": [
       "   patientID age diabetes status   \n",
       "25 1         25  Type1    Poor     \n",
       "34 2         34  Type2    Improved \n",
       "28 3         28  Type1    Excellent\n",
       "52 4         52  Type1    Poor     "
      ]
     },
     "metadata": {},
     "output_type": "display_data"
    }
   ],
   "source": [
    "patientdata <- data.frame(patientID, age, diabetes,\n",
    "                          status, row.names=patientID)\n",
    "patientdata"
   ]
  },
  {
   "cell_type": "markdown",
   "metadata": {},
   "source": [
    "## 列表\n",
    "\n",
    "* 是一些对象（或成分，component）的有序集合。某个列表中可能是若干向量、矩阵、数据框，甚至其他列表的组合\n",
    "* 可以通过函数list()创建\n",
    "* 不同对象数据模式可以不同\n",
    "* 可以通过在双重方括号中指明代表某个成分的数字或名称来访问列表中的元素\n",
    "* 许多R函数的运行结果都是以列表的形式返回的"
   ]
  },
  {
   "cell_type": "code",
   "execution_count": 24,
   "metadata": {
    "collapsed": true,
    "jupyter": {
     "outputs_hidden": true
    }
   },
   "outputs": [
    {
     "data": {
      "text/html": [
       "<dl>\n",
       "\t<dt>$title</dt>\n",
       "\t\t<dd>'My First List'</dd>\n",
       "\t<dt>$ages</dt>\n",
       "\t\t<dd><style>\n",
       ".list-inline {list-style: none; margin:0; padding: 0}\n",
       ".list-inline>li {display: inline-block}\n",
       ".list-inline>li:not(:last-child)::after {content: \"\\00b7\"; padding: 0 .5ex}\n",
       "</style>\n",
       "<ol class=list-inline><li>25</li><li>26</li><li>18</li><li>39</li></ol>\n",
       "</dd>\n",
       "\t<dt>[[3]]</dt>\n",
       "\t\t<dd><table>\n",
       "<caption>A matrix: 5 × 2 of type int</caption>\n",
       "<tbody>\n",
       "\t<tr><td>1</td><td> 6</td></tr>\n",
       "\t<tr><td>2</td><td> 7</td></tr>\n",
       "\t<tr><td>3</td><td> 8</td></tr>\n",
       "\t<tr><td>4</td><td> 9</td></tr>\n",
       "\t<tr><td>5</td><td>10</td></tr>\n",
       "</tbody>\n",
       "</table>\n",
       "</dd>\n",
       "\t<dt>[[4]]</dt>\n",
       "\t\t<dd><style>\n",
       ".list-inline {list-style: none; margin:0; padding: 0}\n",
       ".list-inline>li {display: inline-block}\n",
       ".list-inline>li:not(:last-child)::after {content: \"\\00b7\"; padding: 0 .5ex}\n",
       "</style>\n",
       "<ol class=list-inline><li>'one'</li><li>'two'</li><li>'three'</li></ol>\n",
       "</dd>\n",
       "</dl>\n"
      ],
      "text/latex": [
       "\\begin{description}\n",
       "\\item[\\$title] 'My First List'\n",
       "\\item[\\$ages] \\begin{enumerate*}\n",
       "\\item 25\n",
       "\\item 26\n",
       "\\item 18\n",
       "\\item 39\n",
       "\\end{enumerate*}\n",
       "\n",
       "\\item[{[[3]]}] A matrix: 5 × 2 of type int\n",
       "\\begin{tabular}{ll}\n",
       "\t 1 &  6\\\\\n",
       "\t 2 &  7\\\\\n",
       "\t 3 &  8\\\\\n",
       "\t 4 &  9\\\\\n",
       "\t 5 & 10\\\\\n",
       "\\end{tabular}\n",
       "\n",
       "\\item[{[[4]]}] \\begin{enumerate*}\n",
       "\\item 'one'\n",
       "\\item 'two'\n",
       "\\item 'three'\n",
       "\\end{enumerate*}\n",
       "\n",
       "\\end{description}\n"
      ],
      "text/markdown": [
       "$title\n",
       ":   'My First List'\n",
       "$ages\n",
       ":   1. 25\n",
       "2. 26\n",
       "3. 18\n",
       "4. 39\n",
       "\n",
       "\n",
       "\n",
       "[[3]]\n",
       ":   \n",
       "A matrix: 5 × 2 of type int\n",
       "\n",
       "| 1 |  6 |\n",
       "| 2 |  7 |\n",
       "| 3 |  8 |\n",
       "| 4 |  9 |\n",
       "| 5 | 10 |\n",
       "\n",
       "\n",
       "[[4]]\n",
       ":   1. 'one'\n",
       "2. 'two'\n",
       "3. 'three'\n",
       "\n",
       "\n",
       "\n",
       "\n",
       "\n"
      ],
      "text/plain": [
       "$title\n",
       "[1] \"My First List\"\n",
       "\n",
       "$ages\n",
       "[1] 25 26 18 39\n",
       "\n",
       "[[3]]\n",
       "     [,1] [,2]\n",
       "[1,]    1    6\n",
       "[2,]    2    7\n",
       "[3,]    3    8\n",
       "[4,]    4    9\n",
       "[5,]    5   10\n",
       "\n",
       "[[4]]\n",
       "[1] \"one\"   \"two\"   \"three\"\n"
      ]
     },
     "metadata": {},
     "output_type": "display_data"
    },
    {
     "data": {
      "text/html": [
       "<style>\n",
       ".list-inline {list-style: none; margin:0; padding: 0}\n",
       ".list-inline>li {display: inline-block}\n",
       ".list-inline>li:not(:last-child)::after {content: \"\\00b7\"; padding: 0 .5ex}\n",
       "</style>\n",
       "<ol class=list-inline><li>25</li><li>26</li><li>18</li><li>39</li></ol>\n"
      ],
      "text/latex": [
       "\\begin{enumerate*}\n",
       "\\item 25\n",
       "\\item 26\n",
       "\\item 18\n",
       "\\item 39\n",
       "\\end{enumerate*}\n"
      ],
      "text/markdown": [
       "1. 25\n",
       "2. 26\n",
       "3. 18\n",
       "4. 39\n",
       "\n",
       "\n"
      ],
      "text/plain": [
       "[1] 25 26 18 39"
      ]
     },
     "metadata": {},
     "output_type": "display_data"
    },
    {
     "data": {
      "text/html": [
       "'My First List'"
      ],
      "text/latex": [
       "'My First List'"
      ],
      "text/markdown": [
       "'My First List'"
      ],
      "text/plain": [
       "[1] \"My First List\""
      ]
     },
     "metadata": {},
     "output_type": "display_data"
    },
    {
     "data": {
      "text/html": [
       "6"
      ],
      "text/latex": [
       "6"
      ],
      "text/markdown": [
       "6"
      ],
      "text/plain": [
       "[1] 6"
      ]
     },
     "metadata": {},
     "output_type": "display_data"
    }
   ],
   "source": [
    "#创建列表\n",
    "g <- \"My First List\"\n",
    "h <- c(25, 26, 18, 39)\n",
    "j <- matrix(1:10, nrow=5)\n",
    "k <- c(\"one\", \"two\", \"three\")\n",
    "mylist <- list(title=g, ages=h, j, k)\n",
    "mylist\n",
    "mylist$age\n",
    "mylist[[1]]\n",
    "mylist[[3]][1,2]"
   ]
  },
  {
   "cell_type": "markdown",
   "metadata": {},
   "source": []
  }
 ],
 "metadata": {
  "kernelspec": {
   "display_name": "R",
   "language": "R",
   "name": "ir"
  },
  "language_info": {
   "codemirror_mode": "r",
   "file_extension": ".r",
   "mimetype": "text/x-r-source",
   "name": "R",
   "pygments_lexer": "r",
   "version": "4.0.3"
  }
 },
 "nbformat": 4,
 "nbformat_minor": 4
}
